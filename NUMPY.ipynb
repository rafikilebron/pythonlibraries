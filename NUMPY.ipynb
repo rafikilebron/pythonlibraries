{
 "cells": [
  {
   "cell_type": "markdown",
   "id": "42c47a89-ae1f-4217-9fff-d9f8cea0a50d",
   "metadata": {},
   "source": [
    "## NUMPY"
   ]
  },
  {
   "cell_type": "markdown",
   "id": "a6be131d-1d6d-4c70-a058-98d970388c5c",
   "metadata": {},
   "source": [
    "[Numpy](https://numpy.org) es una librería fundamental para la computación científica con Python.\n",
    "* Proporciona arrays N-dimensionales\n",
    "* Implementa funciones matemáticas sofisticadas\n",
    "* Proporciona herramientas para integrar C/C++ y Fortran\n",
    "* Proporciona mecanismos para facilitar la realización de tareas relacionadas con álgebra lineal o números aleatorios"
   ]
  },
  {
   "cell_type": "markdown",
   "id": "f0cefe75-e3e3-4ffb-9dbd-54872f6a6ded",
   "metadata": {},
   "source": [
    "### Import"
   ]
  },
  {
   "cell_type": "code",
   "execution_count": 4,
   "id": "0d857e7b-5809-4650-950b-79a23842f23a",
   "metadata": {},
   "outputs": [],
   "source": [
    "import numpy as np"
   ]
  },
  {
   "cell_type": "markdown",
   "id": "3d154fbe-ceb5-49e6-a7e8-01651548576b",
   "metadata": {
    "jp-MarkdownHeadingCollapsed": true
   },
   "source": [
    "### ARRAYS"
   ]
  },
  {
   "cell_type": "markdown",
   "id": "9588ed70-f5fe-410b-96c6-49a6e6a555c3",
   "metadata": {},
   "source": [
    "Un **array** es una estructura de datos que consiste en una colección de elementos (valores o variables). El tipo más simple de array es un array lineal, también llamado array unidimensional."
   ]
  },
  {
   "cell_type": "markdown",
   "id": "1c47099a-d572-4563-a460-a584de5feafc",
   "metadata": {},
   "source": [
    "En numpy:\n",
    "* Cada dimensión se denomina **axis**\n",
    "* El número de dimensiones se denomina **rank**\n",
    "* La lista de dimensiones con su correspondiente longitud se denomina **shape**\n",
    "* El número total de elementos (multiplicación de la longitud de las dimensiones) se denomina **size**"
   ]
  },
  {
   "cell_type": "code",
   "execution_count": 12,
   "id": "fdf10afe-27ce-48ae-8cb3-0ac7e0e475a2",
   "metadata": {},
   "outputs": [
    {
     "data": {
      "text/plain": [
       "array([[0., 0., 0., 0.],\n",
       "       [0., 0., 0., 0.]])"
      ]
     },
     "execution_count": 12,
     "metadata": {},
     "output_type": "execute_result"
    }
   ],
   "source": [
    "# Array cuyos valores son todos 0\n",
    "a = np.zeros((2, 4))\n",
    "a"
   ]
  },
  {
   "cell_type": "markdown",
   "id": "71de9fd3-f2ab-4fb2-a5fd-1c1f98a140da",
   "metadata": {},
   "source": [
    "_**a**_ es un array:\n",
    "* Con dos **axis**, el primero de longitud 2 (filas) y el segundo de longitud 4 (columnas)\n",
    "* Con un **rank** igual a 2 (dimensiones)\n",
    "* Con un **shape** igual (2, 4)\n",
    "* Con un **size** igual a 8 (fila*columna)"
   ]
  },
  {
   "cell_type": "markdown",
   "id": "766fbb5d-6e86-4237-9062-25e3a9c49004",
   "metadata": {},
   "source": [
    "#### ATRIBUTOS de un array"
   ]
  },
  {
   "cell_type": "code",
   "execution_count": 18,
   "id": "e79bceff-780c-4615-9ea0-cce457ca6dd4",
   "metadata": {},
   "outputs": [
    {
     "data": {
      "text/plain": [
       "(2, 4)"
      ]
     },
     "execution_count": 18,
     "metadata": {},
     "output_type": "execute_result"
    }
   ],
   "source": [
    "a.shape"
   ]
  },
  {
   "cell_type": "code",
   "execution_count": 20,
   "id": "36bcf5fd-009f-44de-8a21-f4b4574e9423",
   "metadata": {},
   "outputs": [
    {
     "data": {
      "text/plain": [
       "2"
      ]
     },
     "execution_count": 20,
     "metadata": {},
     "output_type": "execute_result"
    }
   ],
   "source": [
    "a.ndim"
   ]
  },
  {
   "cell_type": "code",
   "execution_count": 22,
   "id": "9f79cb25-3d9d-4e3b-b0e7-4f19cc84af84",
   "metadata": {},
   "outputs": [
    {
     "data": {
      "text/plain": [
       "8"
      ]
     },
     "execution_count": 22,
     "metadata": {},
     "output_type": "execute_result"
    }
   ],
   "source": [
    "a.size"
   ]
  },
  {
   "cell_type": "markdown",
   "id": "547a4ff2-de03-49e8-8595-0984c8ae9b95",
   "metadata": {},
   "source": [
    "### CREACIÓN DE ARRAYS"
   ]
  },
  {
   "cell_type": "markdown",
   "id": "096ff1ea-741c-4f72-aa65-21c22791f0fa",
   "metadata": {},
   "source": [
    "En la siguiente función se introduce la siguiente tupla como parámetro, donde cada elemento representa:\n",
    "- 2: número de arrays\n",
    "- 3: número de columnas\n",
    "- 4: número de columnas"
   ]
  },
  {
   "cell_type": "markdown",
   "id": "232b3bf4-0412-4b63-96c6-552440ab7463",
   "metadata": {},
   "source": [
    "#### CEROS"
   ]
  },
  {
   "cell_type": "code",
   "execution_count": 25,
   "id": "78b528cd-b3b4-49fc-99aa-1963d73e2bfe",
   "metadata": {},
   "outputs": [
    {
     "data": {
      "text/plain": [
       "array([[[0., 0., 0., 0.],\n",
       "        [0., 0., 0., 0.],\n",
       "        [0., 0., 0., 0.]],\n",
       "\n",
       "       [[0., 0., 0., 0.],\n",
       "        [0., 0., 0., 0.],\n",
       "        [0., 0., 0., 0.]]])"
      ]
     },
     "execution_count": 25,
     "metadata": {},
     "output_type": "execute_result"
    }
   ],
   "source": [
    "# Array cuyos valores son todos 0\n",
    "np.zeros((2, 3, 4))"
   ]
  },
  {
   "cell_type": "markdown",
   "id": "43a35041-8d6d-40d3-93f6-1a8e18967f8e",
   "metadata": {},
   "source": [
    "#### UNOS"
   ]
  },
  {
   "cell_type": "code",
   "execution_count": 27,
   "id": "b4229de3-69b4-4553-b774-dec509bb5cb6",
   "metadata": {},
   "outputs": [
    {
     "data": {
      "text/plain": [
       "array([[[1., 1., 1., 1.],\n",
       "        [1., 1., 1., 1.],\n",
       "        [1., 1., 1., 1.]],\n",
       "\n",
       "       [[1., 1., 1., 1.],\n",
       "        [1., 1., 1., 1.],\n",
       "        [1., 1., 1., 1.]]])"
      ]
     },
     "execution_count": 27,
     "metadata": {},
     "output_type": "execute_result"
    }
   ],
   "source": [
    "# Array cuyos valores son todos 1\n",
    "np.ones((2, 3, 4))"
   ]
  },
  {
   "cell_type": "markdown",
   "id": "9192e534-63c2-4eef-9494-0f43520a8000",
   "metadata": {},
   "source": [
    "#### UN SÓLO VALOR ESPECÍFICO"
   ]
  },
  {
   "cell_type": "markdown",
   "id": "84a98cbe-ff89-4e37-a36a-2d997b7861a9",
   "metadata": {},
   "source": [
    "La siguiente función recibe como parámetro una tupla, donde cada elemento representa:\n",
    "- 2: cantidad de arrays\n",
    "- 3: número de filas\n",
    "- 4: número de columnas\n",
    "- 8: valor que contendrán todos los arrays"
   ]
  },
  {
   "cell_type": "code",
   "execution_count": 32,
   "id": "d61db85a-3518-4abc-9855-db42c6c4cd42",
   "metadata": {},
   "outputs": [
    {
     "data": {
      "text/plain": [
       "array([[[8, 8, 8, 8],\n",
       "        [8, 8, 8, 8],\n",
       "        [8, 8, 8, 8]],\n",
       "\n",
       "       [[8, 8, 8, 8],\n",
       "        [8, 8, 8, 8],\n",
       "        [8, 8, 8, 8]]])"
      ]
     },
     "execution_count": 32,
     "metadata": {},
     "output_type": "execute_result"
    }
   ],
   "source": [
    "# Array cuyos valores son todos el valor indicado como segundo parámetro de la función\n",
    "np.full((2, 3, 4), 8)"
   ]
  },
  {
   "cell_type": "markdown",
   "id": "86b69900-ce1c-49a6-86e1-8e340fb48ae8",
   "metadata": {},
   "source": [
    "#### CON VALORES ACTUALES DE LA MEMORIA"
   ]
  },
  {
   "cell_type": "code",
   "execution_count": 35,
   "id": "bd5fc6f0-003f-44a4-b857-7eecac028046",
   "metadata": {},
   "outputs": [
    {
     "data": {
      "text/plain": [
       "array([[[1.23762452e+224, 4.96040485e+180, 4.95270032e+223,\n",
       "         1.95132487e+227, 2.51715952e+180, 3.17095857e+180,\n",
       "         1.10311979e+155, 1.14115712e+243, 3.81187276e+180],\n",
       "        [1.38759998e+219, 7.33806082e+223, 1.96086570e+243,\n",
       "         3.67591116e+228, 7.10084058e+194, 1.23756628e+214,\n",
       "         2.15754767e+185, 2.35287091e+251, 1.89063981e+219],\n",
       "        [8.39141000e-116, 1.06400250e+248, 3.54950477e+180,\n",
       "         1.16838375e+257, 2.31634004e-152, 9.31313832e+242,\n",
       "         2.34726922e+251, 2.87504676e+161, 2.86889904e+214]],\n",
       "\n",
       "       [[7.50187034e+247, 9.07652381e+223, 1.21697906e-152,\n",
       "         2.19529482e-152, 8.41444044e+276, 1.01150783e+261,\n",
       "         6.01099947e+175, 3.17091504e+180, 1.94210184e+227],\n",
       "        [7.20185284e+159, 6.10935446e+223, 8.73563209e+183,\n",
       "         5.75132125e-090, 1.11493681e+277, 3.73237350e+069,\n",
       "         3.62479391e+228, 4.24356832e+175, 1.14447725e+243],\n",
       "        [4.95267793e+223, 2.19527311e-152, 1.91611770e+214,\n",
       "         1.05894726e-153, 1.17339159e+214, 5.03403489e+223,\n",
       "         3.11080971e+161, 9.85683318e-313, 0.00000000e+000]]])"
      ]
     },
     "execution_count": 35,
     "metadata": {},
     "output_type": "execute_result"
    }
   ],
   "source": [
    "# El resultado de np.empty no es predecible \n",
    "# Inicializa los valores del array con lo que haya en memoria en ese momento\n",
    "np.empty((2, 3, 9))"
   ]
  },
  {
   "cell_type": "markdown",
   "id": "ed0e577c-1253-478f-88db-e6053e6d1494",
   "metadata": {},
   "source": [
    "#### VALORES ESPECÍFICOS"
   ]
  },
  {
   "cell_type": "markdown",
   "id": "aa73b9d8-32ea-4423-94d0-eb4c258a850e",
   "metadata": {},
   "source": [
    "Crear un array con valores específicos"
   ]
  },
  {
   "cell_type": "code",
   "execution_count": 38,
   "id": "0f734256-8f39-4be0-b95d-44d237a0ed58",
   "metadata": {},
   "outputs": [
    {
     "data": {
      "text/plain": [
       "array([[1, 2, 3],\n",
       "       [4, 5, 6]])"
      ]
     },
     "execution_count": 38,
     "metadata": {},
     "output_type": "execute_result"
    }
   ],
   "source": [
    "# Inicializacion del array utilizando un array de Python\n",
    "b = np.array([[1, 2, 3], [4, 5, 6]])\n",
    "b"
   ]
  },
  {
   "cell_type": "code",
   "execution_count": 40,
   "id": "eb98af6f-28dc-4ed1-9706-0074e51423d1",
   "metadata": {},
   "outputs": [
    {
     "data": {
      "text/plain": [
       "(2, 3)"
      ]
     },
     "execution_count": 40,
     "metadata": {},
     "output_type": "execute_result"
    }
   ],
   "source": [
    "b.shape"
   ]
  },
  {
   "cell_type": "markdown",
   "id": "e054c6e0-d0c5-4e2d-8b8a-d4a852dbedc1",
   "metadata": {},
   "source": [
    "#### LINEAR SPACE"
   ]
  },
  {
   "cell_type": "markdown",
   "id": "30368133-0c25-4e3a-9a3a-725b0cef5c68",
   "metadata": {},
   "source": [
    "La siguiente función `Linear space` crea un array de `N` números dentro en un rango de valores especificado.\n",
    "* En este caso, crea un array `unidimensional` con 10 valores entre 0 y 6.\n",
    "* Todos equidistantes."
   ]
  },
  {
   "cell_type": "code",
   "execution_count": 42,
   "id": "d4bf6661-d503-4bdb-86c3-b4d490c51bbd",
   "metadata": {},
   "outputs": [
    {
     "name": "stdout",
     "output_type": "stream",
     "text": [
      "[0.         0.66666667 1.33333333 2.         2.66666667 3.33333333\n",
      " 4.         4.66666667 5.33333333 6.        ]\n"
     ]
    }
   ],
   "source": [
    "# Creación del array utilizando una función basada en rangos\n",
    "# (minimo, maximo, número elementos del array)\n",
    "print(np.linspace(0, 6, 10))"
   ]
  },
  {
   "cell_type": "markdown",
   "id": "8b04aca0-8314-4b68-8d1d-2fbdd4734d6c",
   "metadata": {},
   "source": [
    "#### VALORES ALEATORIOS"
   ]
  },
  {
   "cell_type": "code",
   "execution_count": 56,
   "id": "a1bb4ae1-5610-42b6-99f0-6be310bd2f57",
   "metadata": {},
   "outputs": [
    {
     "data": {
      "text/plain": [
       "array([[[0.9377481 , 0.99913591, 0.94036077, 0.24804276],\n",
       "        [0.93865696, 0.20143103, 0.58462588, 0.41695689],\n",
       "        [0.27023158, 0.6327839 , 0.15914169, 0.57092085]],\n",
       "\n",
       "       [[0.79416443, 0.87668176, 0.06748732, 0.70976338],\n",
       "        [0.53645816, 0.2641729 , 0.88482188, 0.84587373],\n",
       "        [0.38443185, 0.94842475, 0.38428953, 0.33411542]]])"
      ]
     },
     "execution_count": 56,
     "metadata": {},
     "output_type": "execute_result"
    }
   ],
   "source": [
    "# Inicialización del array con valores aleatorios\n",
    "np.random.rand(2, 3, 4)"
   ]
  },
  {
   "cell_type": "markdown",
   "id": "99296534-083a-4c9e-bb0b-4152d690b60e",
   "metadata": {},
   "source": [
    "##### ALEATORIOS CON `DISTRIBUCIÓN NORMAL`"
   ]
  },
  {
   "cell_type": "code",
   "execution_count": 60,
   "id": "c8f3c04d-a3f4-428c-be79-122ff2ab9686",
   "metadata": {},
   "outputs": [
    {
     "data": {
      "text/plain": [
       "array([[-0.73844406, -0.54058533, -0.27586558, -0.02085346],\n",
       "       [ 0.86350436, -0.3079354 , -0.20509171, -0.23974189]])"
      ]
     },
     "execution_count": 60,
     "metadata": {},
     "output_type": "execute_result"
    }
   ],
   "source": [
    "# Inicialización del array con valores aleatorios conforme a una distribución normal\n",
    "np.random.randn(2, 4)"
   ]
  },
  {
   "cell_type": "code",
   "execution_count": 62,
   "id": "af6d0ac9-005b-4222-9840-827d9b6492c1",
   "metadata": {},
   "outputs": [
    {
     "data": {
      "image/png": "[encoded data removed]",
      "text/plain": [
       "<Figure size 640x480 with 1 Axes>"
      ]
     },
     "metadata": {},
     "output_type": "display_data"
    }
   ],
   "source": [
    "%matplotlib inline\n",
    "import matplotlib.pyplot as plt\n",
    "\n",
    "c = np.random.randn(1000000)\n",
    "\n",
    "plt.hist(c, bins=200)\n",
    "plt.show()"
   ]
  },
  {
   "cell_type": "markdown",
   "id": "faeba940-bfd1-4872-bc2d-9da7439cfc0a",
   "metadata": {},
   "source": [
    "#### VALORES OBTENIDOS DE UNA FUNCIÓN"
   ]
  },
  {
   "cell_type": "markdown",
   "id": "8950aebe-7138-42a8-ab22-22e4851bbe73",
   "metadata": {},
   "source": [
    "La función recibe como parámetros la función aplicada al array y su shape como tupla (filas, columnas)"
   ]
  },
  {
   "cell_type": "code",
   "execution_count": 64,
   "id": "5838a45b-e0e6-47d3-bf3f-b81ece2aee9e",
   "metadata": {},
   "outputs": [
    {
     "data": {
      "text/plain": [
       "array([[ 0.,  2.,  4.,  6.,  8.],\n",
       "       [ 1.,  3.,  5.,  7.,  9.],\n",
       "       [ 2.,  4.,  6.,  8., 10.]])"
      ]
     },
     "execution_count": 64,
     "metadata": {},
     "output_type": "execute_result"
    }
   ],
   "source": [
    "# Inicialización del Array utilizando una función personalizada\n",
    "\n",
    "def func(x, y):\n",
    "    return x + 2 * y\n",
    "\n",
    "np.fromfunction(func, (3, 5))"
   ]
  },
  {
   "cell_type": "markdown",
   "id": "409faa69-81f3-4178-9eb7-7f1abfa6897a",
   "metadata": {
    "jp-MarkdownHeadingCollapsed": true
   },
   "source": [
    "### INDEXAR ARRAYS"
   ]
  },
  {
   "cell_type": "markdown",
   "id": "8b0b3bb0-4889-4632-94ad-17f71e35f1d4",
   "metadata": {},
   "source": [
    "Esta sección abarca el cómo acceder a los valores de los arrays unidimensionales, bidimensionales, tridimensionales, etc."
   ]
  },
  {
   "cell_type": "markdown",
   "id": "44798201-14a6-4385-9bee-8a8c8129becb",
   "metadata": {},
   "source": [
    "#### UNIDIMENSIONALES"
   ]
  },
  {
   "cell_type": "code",
   "execution_count": 76,
   "id": "6c28d84a-1f93-45e8-a638-d612aa034cb4",
   "metadata": {},
   "outputs": [
    {
     "name": "stdout",
     "output_type": "stream",
     "text": [
      "Shape: (6,)\n",
      "Array_uni: [ 1  3  5  7  9 11]\n"
     ]
    }
   ],
   "source": [
    "# Creación de un Array unidimensional\n",
    "array_uni = np.array([1, 3, 5, 7, 9, 11])\n",
    "print(\"Shape:\", array_uni.shape)\n",
    "print(\"Array_uni:\", array_uni)"
   ]
  },
  {
   "cell_type": "code",
   "execution_count": 78,
   "id": "f8889db2-bd9b-42d9-bf9d-a647323064cd",
   "metadata": {},
   "outputs": [
    {
     "data": {
      "text/plain": [
       "9"
      ]
     },
     "execution_count": 78,
     "metadata": {},
     "output_type": "execute_result"
    }
   ],
   "source": [
    "# Accediendo al quinto elemento del Array\n",
    "array_uni[4]"
   ]
  },
  {
   "cell_type": "code",
   "execution_count": 80,
   "id": "0c69cef9-3cfa-483c-a010-ee52c392a356",
   "metadata": {},
   "outputs": [
    {
     "data": {
      "text/plain": [
       "array([5, 7])"
      ]
     },
     "execution_count": 80,
     "metadata": {},
     "output_type": "execute_result"
    }
   ],
   "source": [
    "# Accediendo al tercer y cuarto elemento del Array\n",
    "array_uni[2:4]"
   ]
  },
  {
   "cell_type": "markdown",
   "id": "3858f444-fe7d-4d9b-8c05-2cb2f9bbcb35",
   "metadata": {},
   "source": [
    "La siguiente sintaxis significa lo siguiente:\n",
    "* Accede a los elementos del 0 hasta el final del array, pero saltando 3 posiciones."
   ]
  },
  {
   "cell_type": "code",
   "execution_count": 85,
   "id": "5b37ab82-a1f9-42df-80ca-66525144bf9b",
   "metadata": {},
   "outputs": [
    {
     "data": {
      "text/plain": [
       "array([1, 7])"
      ]
     },
     "execution_count": 85,
     "metadata": {},
     "output_type": "execute_result"
    }
   ],
   "source": [
    "# Accediendo a los elementos 0, 3 y 5 del Array\n",
    "# [ 1  3  5  7  9 11]\n",
    "array_uni[0::3]"
   ]
  },
  {
   "cell_type": "markdown",
   "id": "35a5ec56-4114-4ec7-be91-272c163db936",
   "metadata": {},
   "source": [
    "#### MULTIDIMENSIONAL"
   ]
  },
  {
   "cell_type": "code",
   "execution_count": 89,
   "id": "867c712e-7197-4a38-b032-7a63e6f68f70",
   "metadata": {},
   "outputs": [
    {
     "name": "stdout",
     "output_type": "stream",
     "text": [
      "Shape: (2, 4)\n",
      "Array_multi:\n",
      " [[1 2 3 4]\n",
      " [5 6 7 8]]\n"
     ]
    }
   ],
   "source": [
    "# Creación de un Array multidimensional\n",
    "array_multi = np.array([[1, 2, 3, 4], [5, 6, 7, 8]])\n",
    "print(\"Shape:\", array_multi.shape)\n",
    "print(\"Array_multi:\\n\", array_multi)"
   ]
  },
  {
   "cell_type": "code",
   "execution_count": 91,
   "id": "83b4ae8c-c3df-4345-aece-4d23271e406e",
   "metadata": {},
   "outputs": [
    {
     "data": {
      "text/plain": [
       "4"
      ]
     },
     "execution_count": 91,
     "metadata": {},
     "output_type": "execute_result"
    }
   ],
   "source": [
    "# Accediendo al cuarto elemento de la primer fila del Array\n",
    "array_multi[0, 3]"
   ]
  },
  {
   "cell_type": "markdown",
   "id": "09849007-8346-4b96-b7ff-1977dbbde39c",
   "metadata": {},
   "source": [
    "En este caso, `:` significa que mostrará todas las columnas"
   ]
  },
  {
   "cell_type": "code",
   "execution_count": 93,
   "id": "b6889452-21cb-4403-86c7-164f8b80d2a6",
   "metadata": {},
   "outputs": [
    {
     "data": {
      "text/plain": [
       "array([5, 6, 7, 8])"
      ]
     },
     "execution_count": 93,
     "metadata": {},
     "output_type": "execute_result"
    }
   ],
   "source": [
    "# Accediendo a la segunda fila del Array\n",
    "array_multi[1, :]"
   ]
  },
  {
   "cell_type": "code",
   "execution_count": 100,
   "id": "47f00a52-775b-4e7d-bf1e-6bf0857b7b5b",
   "metadata": {},
   "outputs": [
    {
     "data": {
      "text/plain": [
       "array([3, 7])"
      ]
     },
     "execution_count": 100,
     "metadata": {},
     "output_type": "execute_result"
    }
   ],
   "source": [
    "# Accediendo al tercer elemento de todas las filas del Array\n",
    "array_multi[:, 2]"
   ]
  },
  {
   "cell_type": "markdown",
   "id": "3356cb04-7085-422f-bc9a-6299cd949cf3",
   "metadata": {
    "jp-MarkdownHeadingCollapsed": true
   },
   "source": [
    "### MODIFICACIÓN DE UN ARRAY"
   ]
  },
  {
   "cell_type": "code",
   "execution_count": 104,
   "id": "9d9fc012-ccb6-4d44-ba33-5286d0d7f2dc",
   "metadata": {},
   "outputs": [
    {
     "name": "stdout",
     "output_type": "stream",
     "text": [
      "Shape: (28,)\n",
      "Array 1: [ 0  1  2  3  4  5  6  7  8  9 10 11 12 13 14 15 16 17 18 19 20 21 22 23\n",
      " 24 25 26 27]\n"
     ]
    }
   ],
   "source": [
    "# Creación de un Array unidimensional inicializado con el rango de elementos 0-27\n",
    "array1 = np.arange(28)\n",
    "print(\"Shape:\", array1.shape)\n",
    "print(\"Array 1:\", array1)"
   ]
  },
  {
   "cell_type": "markdown",
   "id": "2044a336-b889-4b5f-8e5e-a313c96a005e",
   "metadata": {},
   "source": [
    "#### Cambiar `shape` del array"
   ]
  },
  {
   "cell_type": "code",
   "execution_count": 107,
   "id": "93091afb-dcb9-46c9-aafa-6206aee2baf5",
   "metadata": {},
   "outputs": [
    {
     "name": "stdout",
     "output_type": "stream",
     "text": [
      "Shape: (7, 4)\n",
      "Array 1:\n",
      " [[ 0  1  2  3]\n",
      " [ 4  5  6  7]\n",
      " [ 8  9 10 11]\n",
      " [12 13 14 15]\n",
      " [16 17 18 19]\n",
      " [20 21 22 23]\n",
      " [24 25 26 27]]\n"
     ]
    }
   ],
   "source": [
    "# Cambiar las dimensiones del Array y sus longitudes\n",
    "array1.shape = (7, 4)\n",
    "print(\"Shape:\", array1.shape)\n",
    "print(\"Array 1:\\n\", array1)"
   ]
  },
  {
   "cell_type": "markdown",
   "id": "4a80bf9c-108a-4c3b-a5be-3d01e6792476",
   "metadata": {},
   "source": [
    "#### Copiar un array"
   ]
  },
  {
   "cell_type": "markdown",
   "id": "8a84b1d2-81c1-4122-b9a1-436eafc1af1d",
   "metadata": {},
   "source": [
    "En la siguiente sintaxis se busca hacer una copia del array1, sin embargo, esta no es la forma correcta de hacerlo, ya que al modificar los valores de un array, también se modificarán en el otro, ya que ambos apuntan a la misma dirección de memnoria."
   ]
  },
  {
   "cell_type": "markdown",
   "id": "af552592-b94f-44f9-b9e7-525e37eaa83c",
   "metadata": {},
   "source": [
    "Utilizar `.copy()`"
   ]
  },
  {
   "cell_type": "code",
   "execution_count": 110,
   "id": "f825f87d-bfd3-4ee0-83e8-8301c3b19d68",
   "metadata": {},
   "outputs": [
    {
     "name": "stdout",
     "output_type": "stream",
     "text": [
      "Shape: (4, 7)\n",
      "Array 2:\n",
      " [[ 0  1  2  3  4  5  6]\n",
      " [ 7  8  9 10 11 12 13]\n",
      " [14 15 16 17 18 19 20]\n",
      " [21 22 23 24 25 26 27]]\n"
     ]
    }
   ],
   "source": [
    "# El ejemplo anterior devuelve un nuevo Array que apunta a los mismos datos. \n",
    "# Importante: Modificaciones en un Array, modificaran el otro Array\n",
    "array2 = array1.reshape(4, 7)\n",
    "print(\"Shape:\", array2.shape)\n",
    "print(\"Array 2:\\n\", array2)"
   ]
  },
  {
   "cell_type": "code",
   "execution_count": 115,
   "id": "4e62debd-611c-491c-906a-e7c0c657cfa1",
   "metadata": {},
   "outputs": [
    {
     "name": "stdout",
     "output_type": "stream",
     "text": [
      "Array 2:\n",
      " [[ 0  1  2 20  4  5  6]\n",
      " [ 7  8  9 10 11 12 13]\n",
      " [14 15 16 17 18 19 20]\n",
      " [21 22 23 24 25 26 27]]\n"
     ]
    }
   ],
   "source": [
    "# Modificación del nuevo Array devuelto\n",
    "array2[0, 3] = 20\n",
    "print(\"Array 2:\\n\", array2)"
   ]
  },
  {
   "cell_type": "code",
   "execution_count": 117,
   "id": "988ff19c-fa5e-4212-8ac6-0c9f51e7d2ba",
   "metadata": {},
   "outputs": [
    {
     "name": "stdout",
     "output_type": "stream",
     "text": [
      "Array 1:\n",
      " [[ 0  1  2 20]\n",
      " [ 4  5  6  7]\n",
      " [ 8  9 10 11]\n",
      " [12 13 14 15]\n",
      " [16 17 18 19]\n",
      " [20 21 22 23]\n",
      " [24 25 26 27]]\n"
     ]
    }
   ],
   "source": [
    "print(\"Array 1:\\n\", array1)"
   ]
  },
  {
   "cell_type": "code",
   "execution_count": 119,
   "id": "fca569ae-4fa1-42b6-af8d-f1b6edc7b9a3",
   "metadata": {},
   "outputs": [
    {
     "name": "stdout",
     "output_type": "stream",
     "text": [
      "Array 1: [ 0  1  2 20  4  5  6  7  8  9 10 11 12 13 14 15 16 17 18 19 20 21 22 23\n",
      " 24 25 26 27]\n"
     ]
    }
   ],
   "source": [
    "# Desenvuelve el Array, devolviendo un nuevo Array de una sola dimension\n",
    "# Importante: El nuevo array apunta a los mismos datos\n",
    "print(\"Array 1:\", array1.ravel())"
   ]
  },
  {
   "cell_type": "markdown",
   "id": "7d25607c-e79a-49c9-80b1-01227e52cbfa",
   "metadata": {},
   "source": [
    "Como se observa, ambos arrays se modificaron en la posición 4"
   ]
  },
  {
   "cell_type": "markdown",
   "id": "3086c9b1-9257-439d-b624-337f1ebf2c81",
   "metadata": {
    "jp-MarkdownHeadingCollapsed": true
   },
   "source": [
    "### OPERACIONES ARITMÉTICAS CON ARRAYS"
   ]
  },
  {
   "cell_type": "code",
   "execution_count": 124,
   "id": "ff4580d3-dd02-4aaf-b305-a6766ec5b493",
   "metadata": {},
   "outputs": [
    {
     "name": "stdout",
     "output_type": "stream",
     "text": [
      "Array 1: [ 2  4  6  8 10 12 14 16]\n",
      "Array 2: [0 1 2 3 4 5 6 7]\n"
     ]
    }
   ],
   "source": [
    "# Creación de dos Arrays unidimensionales\n",
    "array1 = np.arange(2, 18, 2)\n",
    "array2 = np.arange(8)\n",
    "print(\"Array 1:\", array1)\n",
    "print(\"Array 2:\", array2)"
   ]
  },
  {
   "cell_type": "markdown",
   "id": "b2909329-5f03-40a7-bbe6-873c46fc0902",
   "metadata": {
    "jp-MarkdownHeadingCollapsed": true
   },
   "source": [
    "#### Suma"
   ]
  },
  {
   "cell_type": "markdown",
   "id": "2fc1d847-b56e-4799-92f0-ce13cf970a56",
   "metadata": {},
   "source": [
    "Se realiza elemento por elemento"
   ]
  },
  {
   "cell_type": "code",
   "execution_count": 127,
   "id": "097367af-034a-457d-bf9c-22bc41329f1a",
   "metadata": {},
   "outputs": [
    {
     "name": "stdout",
     "output_type": "stream",
     "text": [
      "[ 2  5  8 11 14 17 20 23]\n"
     ]
    }
   ],
   "source": [
    "# Suma\n",
    "print(array1 + array2)"
   ]
  },
  {
   "cell_type": "markdown",
   "id": "c9ac7817-56ce-49cc-827d-61a7bfd82cdc",
   "metadata": {
    "jp-MarkdownHeadingCollapsed": true
   },
   "source": [
    "#### Resta"
   ]
  },
  {
   "cell_type": "markdown",
   "id": "44249a32-b22a-4588-8c24-38a3f50621e8",
   "metadata": {},
   "source": [
    "Se realiza elemento por elemento"
   ]
  },
  {
   "cell_type": "code",
   "execution_count": 132,
   "id": "f592a15b-0fb9-4f6c-afb4-5e8d8ad40e2d",
   "metadata": {},
   "outputs": [
    {
     "name": "stdout",
     "output_type": "stream",
     "text": [
      "[2 3 4 5 6 7 8 9]\n"
     ]
    }
   ],
   "source": [
    "# Resta\n",
    "print(array1 - array2)"
   ]
  },
  {
   "cell_type": "markdown",
   "id": "e1a61e9a-4d40-451c-aa16-58182fa1144a",
   "metadata": {
    "jp-MarkdownHeadingCollapsed": true
   },
   "source": [
    "#### Multiplicación"
   ]
  },
  {
   "cell_type": "markdown",
   "id": "c4374859-e407-4ca7-9fc9-03801d512c6e",
   "metadata": {},
   "source": [
    "**No es una multiplicación de matrices**"
   ]
  },
  {
   "cell_type": "markdown",
   "id": "434eaa7c-d22e-489c-bb33-e66c6ac6a04e",
   "metadata": {},
   "source": [
    "Se realiza elemento por elemento"
   ]
  },
  {
   "cell_type": "code",
   "execution_count": 136,
   "id": "dc8fc975-a3e8-485a-a86d-479f099b6b06",
   "metadata": {},
   "outputs": [
    {
     "name": "stdout",
     "output_type": "stream",
     "text": [
      "[  0   4  12  24  40  60  84 112]\n"
     ]
    }
   ],
   "source": [
    "# Multiplicacion\n",
    "# Importante: No es una multiplicación de matrices\n",
    "print(array1 * array2)"
   ]
  },
  {
   "cell_type": "markdown",
   "id": "e2f94315-d7ed-4a71-aab2-bc74ba46dafe",
   "metadata": {
    "jp-MarkdownHeadingCollapsed": true
   },
   "source": [
    "#### Broadcasting"
   ]
  },
  {
   "cell_type": "markdown",
   "id": "094af007-e03e-4914-9034-12665c34630e",
   "metadata": {},
   "source": [
    "Si se aplican operaciones aritméticas sobre Arrays que no tienen la misma forma (shape) Numpy aplica un propiedad que se denomina Broadcasting."
   ]
  },
  {
   "cell_type": "markdown",
   "id": "e5e0f735-a102-469b-8d3c-9274cb5be04e",
   "metadata": {},
   "source": [
    "##### Suma"
   ]
  },
  {
   "cell_type": "code",
   "execution_count": 144,
   "id": "c301a343-11c4-4953-b86f-01390024101c",
   "metadata": {},
   "outputs": [
    {
     "name": "stdout",
     "output_type": "stream",
     "text": [
      "Shape Array 1: (5,)\n",
      "Array 1: [0 1 2 3 4]\n",
      "\n",
      "Shape Array 2: (1,)\n",
      "Array 2: [3]\n"
     ]
    }
   ],
   "source": [
    "# Creación de dos Arrays unidimensionales\n",
    "array1 = np.arange(5)\n",
    "array2 = np.array([3])\n",
    "print(\"Shape Array 1:\", array1.shape)\n",
    "print(\"Array 1:\", array1)\n",
    "print()\n",
    "print(\"Shape Array 2:\", array2.shape)\n",
    "print(\"Array 2:\", array2)"
   ]
  },
  {
   "cell_type": "code",
   "execution_count": 147,
   "id": "745edc7d-5c1d-4bc2-8819-6b1a157a60c1",
   "metadata": {},
   "outputs": [
    {
     "data": {
      "text/plain": [
       "array([3, 4, 5, 6, 7])"
      ]
     },
     "execution_count": 147,
     "metadata": {},
     "output_type": "execute_result"
    }
   ],
   "source": [
    "# Suma de ambos Arrays\n",
    "array1 + array2"
   ]
  },
  {
   "cell_type": "code",
   "execution_count": 150,
   "id": "ad3aa0b8-df64-4bcf-90f7-dfbbbfe8983a",
   "metadata": {},
   "outputs": [
    {
     "name": "stdout",
     "output_type": "stream",
     "text": [
      "Shape Array 1: (2, 3)\n",
      "Array 1:\n",
      " [[0 1 2]\n",
      " [3 4 5]]\n",
      "\n",
      "Shape Array 2: (3,)\n",
      "Array 2: [ 6 10 14]\n"
     ]
    }
   ],
   "source": [
    "# Creación de dos Arrays multidimensional y unidimensional\n",
    "array1 = np.arange(6)\n",
    "array1.shape = (2, 3)\n",
    "array2 = np.arange(6, 18, 4)\n",
    "print(\"Shape Array 1:\", array1.shape)\n",
    "print(\"Array 1:\\n\", array1)\n",
    "print()\n",
    "print(\"Shape Array 2:\", array2.shape)\n",
    "print(\"Array 2:\", array2)"
   ]
  },
  {
   "cell_type": "code",
   "execution_count": 152,
   "id": "3b800ff4-2de6-473e-b1ad-c0da1b86e63e",
   "metadata": {},
   "outputs": [
    {
     "data": {
      "text/plain": [
       "array([[ 6, 11, 16],\n",
       "       [ 9, 14, 19]])"
      ]
     },
     "execution_count": 152,
     "metadata": {},
     "output_type": "execute_result"
    }
   ],
   "source": [
    "# Suma de ambos Arrays\n",
    "array1 + array2"
   ]
  },
  {
   "cell_type": "markdown",
   "id": "78c96789-2686-4cec-8adb-2720fe8c4666",
   "metadata": {
    "jp-MarkdownHeadingCollapsed": true
   },
   "source": [
    "#### Funciones Estadísticas"
   ]
  },
  {
   "cell_type": "code",
   "execution_count": 155,
   "id": "0c624aee-36e5-4a43-bc7b-5bfe2aff0bf9",
   "metadata": {},
   "outputs": [
    {
     "name": "stdout",
     "output_type": "stream",
     "text": [
      "Array 1: [ 1  3  5  7  9 11 13 15 17 19]\n"
     ]
    }
   ],
   "source": [
    "# Creación de un Array unidimensional\n",
    "array1 = np.arange(1, 20, 2)\n",
    "print(\"Array 1:\", array1)"
   ]
  },
  {
   "cell_type": "markdown",
   "id": "a964bcc8-f277-400c-b035-b502613978af",
   "metadata": {},
   "source": [
    "##### `Media`"
   ]
  },
  {
   "cell_type": "code",
   "execution_count": 158,
   "id": "a1e143f8-93dc-4472-88d2-3c5cf2f681c0",
   "metadata": {},
   "outputs": [
    {
     "data": {
      "text/plain": [
       "10.0"
      ]
     },
     "execution_count": 158,
     "metadata": {},
     "output_type": "execute_result"
    }
   ],
   "source": [
    "# Media de los elementos del Array\n",
    "array1.mean()"
   ]
  },
  {
   "cell_type": "markdown",
   "id": "0bfef016-c9f8-486e-9d80-ea265064f4a0",
   "metadata": {},
   "source": [
    "##### `Suma de todos los elementos del array`"
   ]
  },
  {
   "cell_type": "code",
   "execution_count": 161,
   "id": "04069583-2fd7-40ef-8e1e-cc829a588008",
   "metadata": {},
   "outputs": [
    {
     "data": {
      "text/plain": [
       "100"
      ]
     },
     "execution_count": 161,
     "metadata": {},
     "output_type": "execute_result"
    }
   ],
   "source": [
    "# Suma de los elementos del Array\n",
    "array1.sum()"
   ]
  },
  {
   "cell_type": "markdown",
   "id": "4cc6e918-d2e0-4372-b972-022fdd0eabe8",
   "metadata": {},
   "source": [
    "##### `Cuadrado de cada elemento`"
   ]
  },
  {
   "cell_type": "code",
   "execution_count": 164,
   "id": "b0e39b52-065a-4d4f-91ad-c79654b05610",
   "metadata": {},
   "outputs": [
    {
     "data": {
      "text/plain": [
       "array([  1,   9,  25,  49,  81, 121, 169, 225, 289, 361])"
      ]
     },
     "execution_count": 164,
     "metadata": {},
     "output_type": "execute_result"
    }
   ],
   "source": [
    "# Cuadrado de los elementos del Array\n",
    "np.square(array1)"
   ]
  },
  {
   "cell_type": "markdown",
   "id": "ff8649e6-6901-4403-b0ff-1a57cf463824",
   "metadata": {},
   "source": [
    "##### `Raíz Cuadrada de cada elemento`"
   ]
  },
  {
   "cell_type": "code",
   "execution_count": 170,
   "id": "1b799a2f-f039-411e-bad1-a8486192e11e",
   "metadata": {},
   "outputs": [
    {
     "data": {
      "text/plain": [
       "array([1.        , 1.73205081, 2.23606798, 2.64575131, 3.        ,\n",
       "       3.31662479, 3.60555128, 3.87298335, 4.12310563, 4.35889894])"
      ]
     },
     "execution_count": 170,
     "metadata": {},
     "output_type": "execute_result"
    }
   ],
   "source": [
    "# Raiz cuadrada de los elementos del Array\n",
    "np.sqrt(array1)"
   ]
  },
  {
   "cell_type": "markdown",
   "id": "3c42a6d9-c601-4ec2-96a0-f79307c9e82f",
   "metadata": {},
   "source": [
    "##### `Exponencial de cada elemento`"
   ]
  },
  {
   "cell_type": "code",
   "execution_count": 173,
   "id": "60baa2f9-d681-419c-a059-ef9163db2b4c",
   "metadata": {},
   "outputs": [
    {
     "data": {
      "text/plain": [
       "array([2.71828183e+00, 2.00855369e+01, 1.48413159e+02, 1.09663316e+03,\n",
       "       8.10308393e+03, 5.98741417e+04, 4.42413392e+05, 3.26901737e+06,\n",
       "       2.41549528e+07, 1.78482301e+08])"
      ]
     },
     "execution_count": 173,
     "metadata": {},
     "output_type": "execute_result"
    }
   ],
   "source": [
    "# Exponencial de los elementos del Array\n",
    "np.exp(array1)"
   ]
  },
  {
   "cell_type": "markdown",
   "id": "34ed5647-c8e8-41f9-86e8-34aacc3ce051",
   "metadata": {},
   "source": [
    "##### `Log de cada elemento`"
   ]
  },
  {
   "cell_type": "code",
   "execution_count": 176,
   "id": "55722382-adf4-4196-ad65-f3493e8d7acd",
   "metadata": {},
   "outputs": [
    {
     "data": {
      "text/plain": [
       "array([0.        , 1.09861229, 1.60943791, 1.94591015, 2.19722458,\n",
       "       2.39789527, 2.56494936, 2.7080502 , 2.83321334, 2.94443898])"
      ]
     },
     "execution_count": 176,
     "metadata": {},
     "output_type": "execute_result"
    }
   ],
   "source": [
    "# log de los elementos del Array\n",
    "np.log(array1)"
   ]
  },
  {
   "cell_type": "markdown",
   "id": "2cbfac62-ba7e-42d2-8159-563b2f6b4b06",
   "metadata": {},
   "source": [
    "### Todos los atributos y métodos de NUMPY"
   ]
  },
  {
   "cell_type": "code",
   "execution_count": 178,
   "id": "193c4f09-d4a9-4ad1-b468-0932a75f22fc",
   "metadata": {},
   "outputs": [
    {
     "data": {
      "text/plain": [
       "['T',\n",
       " '__abs__',\n",
       " '__add__',\n",
       " '__and__',\n",
       " '__array__',\n",
       " '__array_finalize__',\n",
       " '__array_function__',\n",
       " '__array_interface__',\n",
       " '__array_prepare__',\n",
       " '__array_priority__',\n",
       " '__array_struct__',\n",
       " '__array_ufunc__',\n",
       " '__array_wrap__',\n",
       " '__bool__',\n",
       " '__buffer__',\n",
       " '__class__',\n",
       " '__class_getitem__',\n",
       " '__complex__',\n",
       " '__contains__',\n",
       " '__copy__',\n",
       " '__deepcopy__',\n",
       " '__delattr__',\n",
       " '__delitem__',\n",
       " '__dir__',\n",
       " '__divmod__',\n",
       " '__dlpack__',\n",
       " '__dlpack_device__',\n",
       " '__doc__',\n",
       " '__eq__',\n",
       " '__float__',\n",
       " '__floordiv__',\n",
       " '__format__',\n",
       " '__ge__',\n",
       " '__getattribute__',\n",
       " '__getitem__',\n",
       " '__getstate__',\n",
       " '__gt__',\n",
       " '__hash__',\n",
       " '__iadd__',\n",
       " '__iand__',\n",
       " '__ifloordiv__',\n",
       " '__ilshift__',\n",
       " '__imatmul__',\n",
       " '__imod__',\n",
       " '__imul__',\n",
       " '__index__',\n",
       " '__init__',\n",
       " '__init_subclass__',\n",
       " '__int__',\n",
       " '__invert__',\n",
       " '__ior__',\n",
       " '__ipow__',\n",
       " '__irshift__',\n",
       " '__isub__',\n",
       " '__iter__',\n",
       " '__itruediv__',\n",
       " '__ixor__',\n",
       " '__le__',\n",
       " '__len__',\n",
       " '__lshift__',\n",
       " '__lt__',\n",
       " '__matmul__',\n",
       " '__mod__',\n",
       " '__mul__',\n",
       " '__ne__',\n",
       " '__neg__',\n",
       " '__new__',\n",
       " '__or__',\n",
       " '__pos__',\n",
       " '__pow__',\n",
       " '__radd__',\n",
       " '__rand__',\n",
       " '__rdivmod__',\n",
       " '__reduce__',\n",
       " '__reduce_ex__',\n",
       " '__repr__',\n",
       " '__rfloordiv__',\n",
       " '__rlshift__',\n",
       " '__rmatmul__',\n",
       " '__rmod__',\n",
       " '__rmul__',\n",
       " '__ror__',\n",
       " '__rpow__',\n",
       " '__rrshift__',\n",
       " '__rshift__',\n",
       " '__rsub__',\n",
       " '__rtruediv__',\n",
       " '__rxor__',\n",
       " '__setattr__',\n",
       " '__setitem__',\n",
       " '__setstate__',\n",
       " '__sizeof__',\n",
       " '__str__',\n",
       " '__sub__',\n",
       " '__subclasshook__',\n",
       " '__truediv__',\n",
       " '__xor__',\n",
       " 'all',\n",
       " 'any',\n",
       " 'argmax',\n",
       " 'argmin',\n",
       " 'argpartition',\n",
       " 'argsort',\n",
       " 'astype',\n",
       " 'base',\n",
       " 'byteswap',\n",
       " 'choose',\n",
       " 'clip',\n",
       " 'compress',\n",
       " 'conj',\n",
       " 'conjugate',\n",
       " 'copy',\n",
       " 'ctypes',\n",
       " 'cumprod',\n",
       " 'cumsum',\n",
       " 'data',\n",
       " 'diagonal',\n",
       " 'dot',\n",
       " 'dtype',\n",
       " 'dump',\n",
       " 'dumps',\n",
       " 'fill',\n",
       " 'flags',\n",
       " 'flat',\n",
       " 'flatten',\n",
       " 'getfield',\n",
       " 'imag',\n",
       " 'item',\n",
       " 'itemset',\n",
       " 'itemsize',\n",
       " 'max',\n",
       " 'mean',\n",
       " 'min',\n",
       " 'nbytes',\n",
       " 'ndim',\n",
       " 'newbyteorder',\n",
       " 'nonzero',\n",
       " 'partition',\n",
       " 'prod',\n",
       " 'ptp',\n",
       " 'put',\n",
       " 'ravel',\n",
       " 'real',\n",
       " 'repeat',\n",
       " 'reshape',\n",
       " 'resize',\n",
       " 'round',\n",
       " 'searchsorted',\n",
       " 'setfield',\n",
       " 'setflags',\n",
       " 'shape',\n",
       " 'size',\n",
       " 'sort',\n",
       " 'squeeze',\n",
       " 'std',\n",
       " 'strides',\n",
       " 'sum',\n",
       " 'swapaxes',\n",
       " 'take',\n",
       " 'tobytes',\n",
       " 'tofile',\n",
       " 'tolist',\n",
       " 'tostring',\n",
       " 'trace',\n",
       " 'transpose',\n",
       " 'var',\n",
       " 'view']"
      ]
     },
     "execution_count": 178,
     "metadata": {},
     "output_type": "execute_result"
    }
   ],
   "source": [
    "dir(array1)"
   ]
  },
  {
   "cell_type": "markdown",
   "id": "b5eee461-46bf-4aa2-a1b7-efb2f3bd069e",
   "metadata": {},
   "source": [
    "Para obtener información de cada atributo o método, escribir la siguiente sintáxis:"
   ]
  },
  {
   "cell_type": "code",
   "execution_count": 190,
   "id": "6beba944-fede-42f3-b523-1b848ae4110d",
   "metadata": {
    "collapsed": true,
    "jupyter": {
     "outputs_hidden": true
    },
    "scrolled": true
   },
   "outputs": [
    {
     "name": "stdout",
     "output_type": "stream",
     "text": [
      "Help on built-in function sort:\n",
      "\n",
      "sort(...) method of numpy.ndarray instance\n",
      "    a.sort(axis=-1, kind=None, order=None)\n",
      "\n",
      "    Sort an array in-place. Refer to `numpy.sort` for full documentation.\n",
      "\n",
      "    Parameters\n",
      "    ----------\n",
      "    axis : int, optional\n",
      "        Axis along which to sort. Default is -1, which means sort along the\n",
      "        last axis.\n",
      "    kind : {'quicksort', 'mergesort', 'heapsort', 'stable'}, optional\n",
      "        Sorting algorithm. The default is 'quicksort'. Note that both 'stable'\n",
      "        and 'mergesort' use timsort under the covers and, in general, the\n",
      "        actual implementation will vary with datatype. The 'mergesort' option\n",
      "        is retained for backwards compatibility.\n",
      "\n",
      "        .. versionchanged:: 1.15.0\n",
      "           The 'stable' option was added.\n",
      "\n",
      "    order : str or list of str, optional\n",
      "        When `a` is an array with fields defined, this argument specifies\n",
      "        which fields to compare first, second, etc.  A single field can\n",
      "        be specified as a string, and not all fields need be specified,\n",
      "        but unspecified fields will still be used, in the order in which\n",
      "        they come up in the dtype, to break ties.\n",
      "\n",
      "    See Also\n",
      "    --------\n",
      "    numpy.sort : Return a sorted copy of an array.\n",
      "    numpy.argsort : Indirect sort.\n",
      "    numpy.lexsort : Indirect stable sort on multiple keys.\n",
      "    numpy.searchsorted : Find elements in sorted array.\n",
      "    numpy.partition: Partial sort.\n",
      "\n",
      "    Notes\n",
      "    -----\n",
      "    See `numpy.sort` for notes on the different sorting algorithms.\n",
      "\n",
      "    Examples\n",
      "    --------\n",
      "    >>> a = np.array([[1,4], [3,1]])\n",
      "    >>> a.sort(axis=1)\n",
      "    >>> a\n",
      "    array([[1, 4],\n",
      "           [1, 3]])\n",
      "    >>> a.sort(axis=0)\n",
      "    >>> a\n",
      "    array([[1, 3],\n",
      "           [1, 4]])\n",
      "\n",
      "    Use the `order` keyword to specify a field to use when sorting a\n",
      "    structured array:\n",
      "\n",
      "    >>> a = np.array([('a', 2), ('c', 1)], dtype=[('x', 'S1'), ('y', int)])\n",
      "    >>> a.sort(order='y')\n",
      "    >>> a\n",
      "    array([(b'c', 1), (b'a', 2)],\n",
      "          dtype=[('x', 'S1'), ('y', '<i8')])\n",
      "\n"
     ]
    }
   ],
   "source": [
    "help(array1.sort)"
   ]
  },
  {
   "cell_type": "code",
   "execution_count": null,
   "id": "f183f94d-f952-48bb-b6be-315971e901b7",
   "metadata": {},
   "outputs": [],
   "source": []
  }
 ],
 "metadata": {
  "kernelspec": {
   "display_name": "Python [conda env:base] *",
   "language": "python",
   "name": "conda-base-py"
  },
  "language_info": {
   "codemirror_mode": {
    "name": "ipython",
    "version": 3
   },
   "file_extension": ".py",
   "mimetype": "text/x-python",
   "name": "python",
   "nbconvert_exporter": "python",
   "pygments_lexer": "ipython3",
   "version": "3.12.7"
  }
 },
 "nbformat": 4,
 "nbformat_minor": 5
}
